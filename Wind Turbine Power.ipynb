{
 "cells": [
  {
   "cell_type": "markdown",
   "metadata": {},
   "source": [
    "\n",
    "## 2020 Project: Wind Turbine Power\n",
    "\n",
    "![Python](python.png)\n",
    "\n",
    "-----------\n",
    "\n",
    "\n",
    "-----------\n",
    "\n",
    "### Submitted by: Valerie Walsh G00364748\n",
    "### Submission Date: 8th Jan 2021\n",
    "-----------\n",
    "\n",
    "### Module: Machine Learning & Statistics\n",
    "### Course: H.Dip in Computer Science (Data Analytics)\n",
    "### Institute: Galway-Mayo I.T.\n",
    "### Lecturer: Ian McLoughlin\n",
    "\n",
    "\n",
    "-----------\n",
    "-----------\n",
    "\n",
    "\n",
    "\n",
    "\n",
    "## Table of Contents\n",
    "### Introduction\n",
    "### Statement of Work\n",
    "### Technology Used\n",
    "### Background\n",
    "### Exploring the Data\n",
    "### Findings\n",
    "### References\n",
    "\n",
    "*****\n",
    "\n",
    "*** \n",
    "\n",
    "--------------\n",
    "\n",
    "\n",
    "### Introduction\n",
    "\n",
    "It is my intention, to use this repository to demonstrate my knowledge with relation to Machine Learning. <br>\n",
    "\n",
    "The project requires me to <i>\"create a web service that uses machine learning to make predictions based on the data set powerproduction\"</i>  <br>\n",
    "\n",
    "The data set has already been supplied by the lecturer and I have added it to this repository as a csv file. I have also added the assessment file to the repository for clarity of the requirements of this assessment. <br>\n",
    "\n",
    "<i>\"The goal is to produce a model that accurately predicts wind turbine power output from wind speed values, as in the data set. <br>\n",
    "You must then develop a web service that will respond with predicted power values based on speed values sent as HTTP requests.\"</i>\n",
    "\n",
    "\n",
    "***\n",
    "\n",
    "\n",
    "\n",
    "\n",
    "### Statement of Work\n",
    "\n",
    "This is a statement to confirm that the work submitted within this repository is my own work.\n",
    "Any information obtained via 3rd party as apart of my research has been referenced appropriately.\n",
    "I can therefore confirm that my submitted work is in line with the Quality Assurance Framework of GMIT.\n",
    "\n",
    "\n",
    "***\n",
    "\n",
    "\n",
    "\n",
    "### Technology Used\n",
    "\n",
    "* Jupyter Notebook\n",
    "* Visual Studio Code\n",
    "* Anaconda Software package\n",
    "* Python Programming Language\n",
    "* Flask (A Python framework)\n",
    "* Github.com\n",
    "* Command line interpreteter (Command Prompt)\n",
    "* LearnOnline / Moodle (*GMIT learning platform)\n",
    "\n",
    "Note: I have included a more detailed explaination within my README file of how I used the above technology for this project. \n",
    "\n",
    "\n",
    "***\n",
    "\n",
    "\n",
    "\n",
    "### Background\n",
    "\n",
    "- <b> Why this project? </b>\n",
    "\n",
    "The project is based upon the provided dataset which contains figures relating to the speed and power output of power production. <br>\n",
    "The aim of the project is for the student to develop a web service that can make predictions on power production i.e. electricity based on this data set. <br>\n",
    "This project must all be done using Machine Learning involing HTTP requests which should provide responses with predicted power / output values. \n",
    "\n",
    "\n",
    "#### So, what is Machine Learning?\n",
    "\n",
    "<i>\"Machine learning is a method of data analysis that automates analytical model building. It is a branch of artificial intelligence based on the idea that systems can learn from data, identify patterns and make decisions with minimal human intervention.\"</i> https://www.sas.com/en_in/insights/analytics/machine-learning.html\n",
    "\n",
    "Machine Learning is something which is now being used globally by various industries for the sole purpose of improvement. Its outputs and results allows for businesses to improve on their efficiencies which could relate to production, delivery or logistics. <br>\n",
    "\n",
    "In this example however, the results are intended to be used to aid calculations of costings for energy production and selling this energy for use on the power grid. As a business, obviously the main intention is to sell the energy with the best possible profit margins and also avoiding incurring any losses due to miscalculations. <br> \n",
    "\n",
    "During my research for this project, I have found numerous examples of blog and websites where this same task has been investigated by other individuals using various programming languages. It appears to be a vast area that allows for generating methods to make predictions for wind analysis and renewable energy production. <br>\n",
    "\n",
    "The overall intention of machine learning is for the programme to develop using data and learning and improving based on the data it receives from consistent analysis. \n"
   ]
  },
  {
   "cell_type": "markdown",
   "metadata": {},
   "source": [
    "![Graph](powervspeed.png)\n",
    "\n",
    "#### Wind power production\n",
    "\n",
    "In order for the output to produce, the wind speeds need to be acceptable or optimum levels for a wind turbine to successfully produce power estimates. This can rely on numerous variables including;\n",
    "\n",
    "* the geographical location of the intended turbines i.e. opened or sheltered areas\n",
    "* the number of turbines on the combined grid\n",
    "* weather conditions\n",
    "* wind turbine direction\n",
    "* the upkeep / maintenence of the turbines\n",
    "* the capacity or capabilities of the power generator \n",
    "* infrastructure i.e volume of turbines on the grid\n",
    "* quality of the transformer used to transfer energy from turbine to grid\n",
    "* the set speed of the turbine blades\n",
    "* the set level of output for the generator - so as to avoid flooding the grid or over production through the turbines. \n",
    "\n",
    "https://www.researchgate.net/post/What-is-the-optimum-wind-speed-to-generate-electricity-by-a-wind-turbine\n",
    "\n",
    "Based on the research carried out by \"Oxford University's Environmental Change Institute\", there is little chance of wind speeds being too low to produce energy: <br>\n",
    "<i>\"low wind speeds affect more than half the country for only 10 percent of the time; for 60 percent of the time, only 20 percent of the UK suffers from low wind speeds; and only for one hour per year is 90 percent of the UK suffering low speeds.\"</i>\n",
    "https://www.explainthatstuff.com/windturbines.html\n",
    "<br>\n",
    "\n",
    "The controller of the wind-turbine determines when the machine starts up. It is reported that in general the turbine will kick-in between 8-16 mph wind speeds and will shut off at a max wind speed of 55mph. Operating at wind speeds higher than this can potentially cause damage to the wind turbines. https://www.energy.gov/maps/how-does-wind-turbine-work <br>\n",
    "This may be a good explaination fpr if we see high winds speeds in the data set with a zero power production. This may potentially skew the data and results so we may need to eliminate these certain pieces of data when we investigate the set. <br>\n",
    "\n",
    "***\n",
    "-----------\n",
    "-----------\n",
    "\n",
    "\n",
    "### Exploring the data\n",
    "\n",
    "In order to investigate and analyse the data accurately, I will be using the machine-learning library, Scikit-learn to classify, predict and model the dataset. <br>\n",
    "Scikit-learn is an open-source library for Python programming language that <i>\"features various classification, regression and clustering algorithms including support vector machines, random forests, gradient boosting, k-means and DBSCAN, and is designed to interoperate with the Python numerical and scientific libraries NumPy and SciPy.\"</i> https://en.wikipedia.org/wiki/Scikit-learn <br>\n",
    "\n",
    "Further information relating to this library can be found here: https://scikit-learn.org/\n",
    "<br>\n",
    "\n",
    "To get started I am going to import all the relevant libraries that I believe are needed for this research."
   ]
  },
  {
   "cell_type": "code",
   "execution_count": 3,
   "metadata": {},
   "outputs": [],
   "source": [
    "from sklearn.linear_model import LinearRegression\n",
    "from sklearn.preprocessing import PolynomialFeatures\n",
    "from sklearn.metrics import mean_squared_error, r2_score\n",
    "\n",
    "from sklearn.model_selection import train_test_split\n",
    "from sklearn.datasets import load_iris\n",
    "\n",
    "import numpy as np\n",
    "import pandas as pd\n",
    "\n",
    "import matplotlib.pyplot as plt\n",
    "import seaborn as sns"
   ]
  },
  {
   "cell_type": "code",
   "execution_count": 38,
   "metadata": {},
   "outputs": [
    {
     "name": "stdout",
     "output_type": "stream",
     "text": [
      "      speed  power\n",
      "0     0.000    0.0\n",
      "1     0.125    0.0\n",
      "2     0.150    0.0\n",
      "3     0.225    0.0\n",
      "4     0.275    0.0\n",
      "..      ...    ...\n",
      "495  24.775    0.0\n",
      "496  24.850    0.0\n",
      "497  24.875    0.0\n",
      "498  24.950    0.0\n",
      "499  25.000    0.0\n",
      "\n",
      "[500 rows x 2 columns]\n"
     ]
    }
   ],
   "source": [
    "# Read in the dataset from CSV file\n",
    "data = pd.read_csv(\"powerproduction.csv\")\n",
    "print(data)"
   ]
  },
  {
   "cell_type": "code",
   "execution_count": 42,
   "metadata": {},
   "outputs": [
    {
     "data": {
      "text/html": [
       "<div>\n",
       "<style scoped>\n",
       "    .dataframe tbody tr th:only-of-type {\n",
       "        vertical-align: middle;\n",
       "    }\n",
       "\n",
       "    .dataframe tbody tr th {\n",
       "        vertical-align: top;\n",
       "    }\n",
       "\n",
       "    .dataframe thead th {\n",
       "        text-align: right;\n",
       "    }\n",
       "</style>\n",
       "<table border=\"1\" class=\"dataframe\">\n",
       "  <thead>\n",
       "    <tr style=\"text-align: right;\">\n",
       "      <th></th>\n",
       "      <th>speed</th>\n",
       "      <th>power</th>\n",
       "    </tr>\n",
       "  </thead>\n",
       "  <tbody>\n",
       "    <tr>\n",
       "      <th>0</th>\n",
       "      <td>0.000</td>\n",
       "      <td>0.0</td>\n",
       "    </tr>\n",
       "    <tr>\n",
       "      <th>1</th>\n",
       "      <td>0.125</td>\n",
       "      <td>0.0</td>\n",
       "    </tr>\n",
       "    <tr>\n",
       "      <th>2</th>\n",
       "      <td>0.150</td>\n",
       "      <td>0.0</td>\n",
       "    </tr>\n",
       "    <tr>\n",
       "      <th>3</th>\n",
       "      <td>0.225</td>\n",
       "      <td>0.0</td>\n",
       "    </tr>\n",
       "    <tr>\n",
       "      <th>4</th>\n",
       "      <td>0.275</td>\n",
       "      <td>0.0</td>\n",
       "    </tr>\n",
       "  </tbody>\n",
       "</table>\n",
       "</div>"
      ],
      "text/plain": [
       "   speed  power\n",
       "0  0.000    0.0\n",
       "1  0.125    0.0\n",
       "2  0.150    0.0\n",
       "3  0.225    0.0\n",
       "4  0.275    0.0"
      ]
     },
     "execution_count": 42,
     "metadata": {},
     "output_type": "execute_result"
    }
   ],
   "source": [
    "data.head()"
   ]
  },
  {
   "cell_type": "code",
   "execution_count": 43,
   "metadata": {},
   "outputs": [
    {
     "data": {
      "text/html": [
       "<div>\n",
       "<style scoped>\n",
       "    .dataframe tbody tr th:only-of-type {\n",
       "        vertical-align: middle;\n",
       "    }\n",
       "\n",
       "    .dataframe tbody tr th {\n",
       "        vertical-align: top;\n",
       "    }\n",
       "\n",
       "    .dataframe thead th {\n",
       "        text-align: right;\n",
       "    }\n",
       "</style>\n",
       "<table border=\"1\" class=\"dataframe\">\n",
       "  <thead>\n",
       "    <tr style=\"text-align: right;\">\n",
       "      <th></th>\n",
       "      <th>speed</th>\n",
       "      <th>power</th>\n",
       "    </tr>\n",
       "  </thead>\n",
       "  <tbody>\n",
       "    <tr>\n",
       "      <th>497</th>\n",
       "      <td>24.875</td>\n",
       "      <td>0.0</td>\n",
       "    </tr>\n",
       "    <tr>\n",
       "      <th>498</th>\n",
       "      <td>24.950</td>\n",
       "      <td>0.0</td>\n",
       "    </tr>\n",
       "    <tr>\n",
       "      <th>499</th>\n",
       "      <td>25.000</td>\n",
       "      <td>0.0</td>\n",
       "    </tr>\n",
       "  </tbody>\n",
       "</table>\n",
       "</div>"
      ],
      "text/plain": [
       "      speed  power\n",
       "497  24.875    0.0\n",
       "498  24.950    0.0\n",
       "499  25.000    0.0"
      ]
     },
     "execution_count": 43,
     "metadata": {},
     "output_type": "execute_result"
    }
   ],
   "source": [
    "data.tail(3)"
   ]
  },
  {
   "cell_type": "code",
   "execution_count": 44,
   "metadata": {},
   "outputs": [
    {
     "data": {
      "text/html": [
       "<div>\n",
       "<style scoped>\n",
       "    .dataframe tbody tr th:only-of-type {\n",
       "        vertical-align: middle;\n",
       "    }\n",
       "\n",
       "    .dataframe tbody tr th {\n",
       "        vertical-align: top;\n",
       "    }\n",
       "\n",
       "    .dataframe thead th {\n",
       "        text-align: right;\n",
       "    }\n",
       "</style>\n",
       "<table border=\"1\" class=\"dataframe\">\n",
       "  <thead>\n",
       "    <tr style=\"text-align: right;\">\n",
       "      <th></th>\n",
       "      <th>speed</th>\n",
       "      <th>power</th>\n",
       "    </tr>\n",
       "  </thead>\n",
       "  <tbody>\n",
       "    <tr>\n",
       "      <th>count</th>\n",
       "      <td>500.000000</td>\n",
       "      <td>500.000000</td>\n",
       "    </tr>\n",
       "    <tr>\n",
       "      <th>mean</th>\n",
       "      <td>12.590398</td>\n",
       "      <td>48.014584</td>\n",
       "    </tr>\n",
       "    <tr>\n",
       "      <th>std</th>\n",
       "      <td>7.224991</td>\n",
       "      <td>41.614572</td>\n",
       "    </tr>\n",
       "    <tr>\n",
       "      <th>min</th>\n",
       "      <td>0.000000</td>\n",
       "      <td>0.000000</td>\n",
       "    </tr>\n",
       "    <tr>\n",
       "      <th>25%</th>\n",
       "      <td>6.324750</td>\n",
       "      <td>5.288000</td>\n",
       "    </tr>\n",
       "    <tr>\n",
       "      <th>50%</th>\n",
       "      <td>12.550500</td>\n",
       "      <td>41.645500</td>\n",
       "    </tr>\n",
       "    <tr>\n",
       "      <th>75%</th>\n",
       "      <td>18.775250</td>\n",
       "      <td>93.537000</td>\n",
       "    </tr>\n",
       "    <tr>\n",
       "      <th>max</th>\n",
       "      <td>25.000000</td>\n",
       "      <td>113.556000</td>\n",
       "    </tr>\n",
       "  </tbody>\n",
       "</table>\n",
       "</div>"
      ],
      "text/plain": [
       "            speed       power\n",
       "count  500.000000  500.000000\n",
       "mean    12.590398   48.014584\n",
       "std      7.224991   41.614572\n",
       "min      0.000000    0.000000\n",
       "25%      6.324750    5.288000\n",
       "50%     12.550500   41.645500\n",
       "75%     18.775250   93.537000\n",
       "max     25.000000  113.556000"
      ]
     },
     "execution_count": 44,
     "metadata": {},
     "output_type": "execute_result"
    }
   ],
   "source": [
    "data.describe()"
   ]
  },
  {
   "cell_type": "code",
   "execution_count": 45,
   "metadata": {},
   "outputs": [
    {
     "name": "stdout",
     "output_type": "stream",
     "text": [
      "Shape: (500, 2)\n",
      "\n",
      "Features: Index(['speed', 'power'], dtype='object')\n",
      "\n",
      "Feature matrix:\n",
      "    speed\n",
      "0  0.000\n",
      "1  0.125\n",
      "2  0.150\n",
      "3  0.225\n",
      "4  0.275\n",
      "\n",
      "Response vector:\n",
      " 0    0.0\n",
      "1    0.0\n",
      "2    0.0\n",
      "3    0.0\n",
      "4    0.0\n",
      "Name: power, dtype: float64\n"
     ]
    }
   ],
   "source": [
    "# Using the below code adapted from https://www.geeksforgeeks.org/learning-model-building-scikit-learn-python-machine-learning-library/\n",
    "# Output will display the Features and Responses of the dataset. \n",
    "\n",
    "\n",
    "# shape of dataset \n",
    "print(\"Shape:\", data.shape) \n",
    "\n",
    "# column names \n",
    "print(\"\\nFeatures:\", data.columns) \n",
    "\n",
    "# storing the feature matrix (X) and response vector (y) \n",
    "X = data[data.columns[:-1]] \n",
    "y = data[data.columns[-1]] \n",
    "\n",
    "# printing first 5 rows of feature matrix \n",
    "print(\"\\nFeature matrix:\\n\", X.head()) \n",
    "\n",
    "# printing first 5 values of response vector \n",
    "print(\"\\nResponse vector:\\n\", y.head())\n"
   ]
  },
  {
   "cell_type": "code",
   "execution_count": 46,
   "metadata": {},
   "outputs": [
    {
     "name": "stdout",
     "output_type": "stream",
     "text": [
      "Shape: (500, 2)\n",
      "\n",
      "Features: Index(['speed', 'power'], dtype='object')\n",
      "\n",
      "Feature matrix:\n",
      "    speed\n",
      "0  0.000\n",
      "1  0.125\n",
      "2  0.150\n",
      "3  0.225\n",
      "4  0.275\n",
      "5  0.325\n",
      "6  0.400\n",
      "7  0.450\n",
      "\n",
      "Response vector:\n",
      " 0    0.000\n",
      "1    0.000\n",
      "2    0.000\n",
      "3    0.000\n",
      "4    0.000\n",
      "5    4.331\n",
      "6    5.186\n",
      "7    3.826\n",
      "Name: power, dtype: float64\n"
     ]
    }
   ],
   "source": [
    "# Because the above output only includes the 1st 5 rows where power output is 0, I am going to run the above code again \n",
    "# But set the head to 8 this time so that some Response outputs contain valid data\n",
    "\n",
    "# Shape of dataset: number of inputs and columns \n",
    "print(\"Shape:\", data.shape) \n",
    "\n",
    "# The column names as per the dataset\n",
    "print(\"\\nFeatures:\", data.columns) \n",
    "\n",
    "# storing the feature matrix (X) and response vector (y) \n",
    "X = data[data.columns[:-1]] \n",
    "y = data[data.columns[-1]] \n",
    "\n",
    "# Re-running the code to print out 8 values of the feature matrix \n",
    "print(\"\\nFeature matrix:\\n\", X.head(8)) \n",
    "\n",
    "# Re-running the code to print out 8 values of the response vector\n",
    "print(\"\\nResponse vector:\\n\", y.head(8))\n",
    "\n",
    "# I noticed with the below output that under the title \"Feature matrix\" you can see speed as the printed head of the speed column\n",
    "# However the same does not occur with the power column as the word is missing from the \"Response vector\" print out.\n"
   ]
  },
  {
   "cell_type": "code",
   "execution_count": 64,
   "metadata": {},
   "outputs": [
    {
     "data": {
      "text/plain": [
       "<matplotlib.axes._subplots.AxesSubplot at 0x289c21e9100>"
      ]
     },
     "execution_count": 64,
     "metadata": {},
     "output_type": "execute_result"
    },
    {
     "data": {
      "image/png": "[encoded data removed]",
      "text/plain": [
       "<Figure size 432x288 with 1 Axes>"
      ]
     },
     "metadata": {},
     "output_type": "display_data"
    }
   ],
   "source": [
    "# I used seaborn to create a basic scatter plot to view the data\n",
    "sns.scatterplot(data=data, x = \"speed\", y = \"power\", s=15)\n",
    "            "
   ]
  },
  {
   "cell_type": "code",
   "execution_count": 48,
   "metadata": {},
   "outputs": [
    {
     "data": {
      "image/png": "[encoded data removed]",
      "text/plain": [
       "<Figure size 432x288 with 1 Axes>"
      ]
     },
     "metadata": {},
     "output_type": "display_data"
    }
   ],
   "source": [
    "# Identified a more indepth scatterplot example during my research, plotting this also for better visibility of the data.\n",
    "\n",
    "# \"Scatter Plots are usually used to represent the correlation between two or more variables. \n",
    "# It also helps it identify Outliers, if any.\"\n",
    "# https://medium.com/python-pandemonium/data-visualization-in-python-scatter-plots-in-matplotlib-da90ac4c99f9\n",
    "\n",
    "speed = s['speed']\n",
    "power = s['power']\n",
    "plt.scatter(speed, power, edgecolors='g', s=5)\n",
    "plt.xlabel('Wind Speed (mph)')\n",
    "plt.ylabel('Power Generated (megawatts)')\n",
    "plt.title('Wind Turbine Power Production Data')\n",
    "plt.show()"
   ]
  },
  {
   "cell_type": "markdown",
   "metadata": {},
   "source": [
    "Based on the plotted information above, you can see there are apparent outliers where alot of points are outputting 0 in terms of power / watts produced. These outliers are points that may skew the output as false information and therefore provide false results. <br>\n",
    "\n",
    "Some reasons as to why this may have occured include:\n",
    "* Errors in data recording i.e. human error\n",
    "* Misrecordings\n",
    "* Wind speeds being too low or too high i.e. safety cut-off point\n",
    "\n",
    "It may be best to try disregard these points in the reviewing of the data so as to only include those that are producing power when wind speeds are recorded. <br> \n",
    "As mentioned earlier in the notebook, power production can only commence in wind turbines when the wind speeds are 0ver 8-16mph and less than 55mph, however, based in the dataset breakdown, there is wind speeds recorded in the 20's that also have a 0 power output so it is best in this instance, to remove all instances where power production output is 0. <br>\n",
    "\n",
    "#### Cleaning the data\n",
    "\n"
   ]
  },
  {
   "cell_type": "code",
   "execution_count": 68,
   "metadata": {},
   "outputs": [
    {
     "data": {
      "text/plain": [
       "Index(['speed', 'power'], dtype='object')"
      ]
     },
     "execution_count": 68,
     "metadata": {},
     "output_type": "execute_result"
    }
   ],
   "source": [
    "# Index info for the dataset\n",
    "data.columns"
   ]
  },
  {
   "cell_type": "code",
   "execution_count": 79,
   "metadata": {},
   "outputs": [
    {
     "name": "stdout",
     "output_type": "stream",
     "text": [
      "      speed  power\n",
      "208  10.511    0.0\n",
      "340  17.167    0.0\n",
      "404  20.095    0.0\n",
      "456  22.998    0.0\n",
      "490  24.499    0.0\n",
      "491  24.525    0.0\n",
      "492  24.575    0.0\n",
      "493  24.650    0.0\n",
      "494  24.750    0.0\n",
      "495  24.775    0.0\n",
      "496  24.850    0.0\n",
      "497  24.875    0.0\n",
      "498  24.950    0.0\n",
      "499  25.000    0.0\n"
     ]
    }
   ],
   "source": [
    "# Selecting the values where power is 0 where the speed values are between 8-55 mph\n",
    "data2 = data[(data['power'] == 0 ) & (data['speed'] > 8) & (data['speed'] < 55)]\n",
    "print(data2)\n"
   ]
  },
  {
   "cell_type": "code",
   "execution_count": 77,
   "metadata": {},
   "outputs": [
    {
     "data": {
      "text/plain": [
       "speed    14\n",
       "power    14\n",
       "dtype: int64"
      ]
     },
     "execution_count": 77,
     "metadata": {},
     "output_type": "execute_result"
    }
   ],
   "source": [
    "# The above request outputs that there are 14 instances of acceptable wind speeds with 0 power output. \n",
    "\n",
    "data2.count()"
   ]
  },
  {
   "cell_type": "code",
   "execution_count": 85,
   "metadata": {},
   "outputs": [
    {
     "name": "stdout",
     "output_type": "stream",
     "text": [
      "      speed  power\n",
      "0     0.000    0.0\n",
      "1     0.125    0.0\n",
      "2     0.150    0.0\n",
      "3     0.225    0.0\n",
      "4     0.275    0.0\n",
      "15    0.726    0.0\n",
      "16    0.751    0.0\n",
      "24    1.026    0.0\n",
      "26    1.076    0.0\n",
      "31    1.301    0.0\n",
      "35    1.552    0.0\n",
      "37    1.677    0.0\n",
      "39    1.827    0.0\n",
      "42    2.027    0.0\n",
      "43    2.077    0.0\n",
      "44    2.102    0.0\n",
      "47    2.252    0.0\n",
      "60    3.128    0.0\n",
      "65    3.504    0.0\n",
      "67    3.579    0.0\n",
      "70    3.679    0.0\n",
      "73    3.779    0.0\n",
      "74    3.804    0.0\n",
      "75    3.879    0.0\n",
      "83    4.429    0.0\n",
      "89    4.880    0.0\n",
      "105   5.556    0.0\n",
      "110   5.781    0.0\n",
      "111   5.806    0.0\n",
      "114   5.931    0.0\n",
      "133   6.782    0.0\n",
      "135   6.857    0.0\n",
      "136   6.957    0.0\n",
      "140   7.107    0.0\n",
      "149   7.432    0.0\n",
      "208  10.511    0.0\n",
      "340  17.167    0.0\n",
      "404  20.095    0.0\n",
      "456  22.998    0.0\n",
      "490  24.499    0.0\n",
      "491  24.525    0.0\n",
      "492  24.575    0.0\n",
      "493  24.650    0.0\n",
      "494  24.750    0.0\n",
      "495  24.775    0.0\n",
      "496  24.850    0.0\n",
      "497  24.875    0.0\n",
      "498  24.950    0.0\n",
      "499  25.000    0.0\n"
     ]
    }
   ],
   "source": [
    "# For clarity and to ensure accurate calculations in my research, I am going to choose to remove all instances of power being 0 \n",
    "# from the dataset.\n",
    "\n",
    "# Selecting the values where power is 0 where the speed values are between 8-55 mph\n",
    "cleandata = data[(data['power'] == 0 )]\n",
    "print (cleandata)"
   ]
  },
  {
   "cell_type": "code",
   "execution_count": 88,
   "metadata": {},
   "outputs": [
    {
     "data": {
      "text/plain": [
       "speed    49\n",
       "power    49\n",
       "dtype: int64"
      ]
     },
     "execution_count": 88,
     "metadata": {},
     "output_type": "execute_result"
    }
   ],
   "source": [
    "# There are 49 instances in the dataset where the power output is set to 0. \n",
    "\n",
    "cleandata.count()"
   ]
  },
  {
   "cell_type": "code",
   "execution_count": 90,
   "metadata": {},
   "outputs": [],
   "source": [
    "# Cleaning the dataset by removing all instances of power = 0\n",
    "\n",
    "index = data[(data['power'] == 0)].index\n",
    "data.drop(index, inplace=True)"
   ]
  },
  {
   "cell_type": "code",
   "execution_count": 95,
   "metadata": {},
   "outputs": [
    {
     "data": {
      "text/html": [
       "<div>\n",
       "<style scoped>\n",
       "    .dataframe tbody tr th:only-of-type {\n",
       "        vertical-align: middle;\n",
       "    }\n",
       "\n",
       "    .dataframe tbody tr th {\n",
       "        vertical-align: top;\n",
       "    }\n",
       "\n",
       "    .dataframe thead th {\n",
       "        text-align: right;\n",
       "    }\n",
       "</style>\n",
       "<table border=\"1\" class=\"dataframe\">\n",
       "  <thead>\n",
       "    <tr style=\"text-align: right;\">\n",
       "      <th></th>\n",
       "      <th>speed</th>\n",
       "      <th>power</th>\n",
       "    </tr>\n",
       "  </thead>\n",
       "  <tbody>\n",
       "    <tr>\n",
       "      <th>count</th>\n",
       "      <td>451.000000</td>\n",
       "      <td>451.000000</td>\n",
       "    </tr>\n",
       "    <tr>\n",
       "      <th>mean</th>\n",
       "      <td>13.004302</td>\n",
       "      <td>53.231246</td>\n",
       "    </tr>\n",
       "    <tr>\n",
       "      <th>std</th>\n",
       "      <td>6.835979</td>\n",
       "      <td>40.522055</td>\n",
       "    </tr>\n",
       "    <tr>\n",
       "      <th>min</th>\n",
       "      <td>0.325000</td>\n",
       "      <td>0.067000</td>\n",
       "    </tr>\n",
       "    <tr>\n",
       "      <th>25%</th>\n",
       "      <td>7.344500</td>\n",
       "      <td>8.543500</td>\n",
       "    </tr>\n",
       "    <tr>\n",
       "      <th>50%</th>\n",
       "      <td>13.038000</td>\n",
       "      <td>58.168000</td>\n",
       "    </tr>\n",
       "    <tr>\n",
       "      <th>75%</th>\n",
       "      <td>18.781500</td>\n",
       "      <td>94.725500</td>\n",
       "    </tr>\n",
       "    <tr>\n",
       "      <th>max</th>\n",
       "      <td>24.399000</td>\n",
       "      <td>113.556000</td>\n",
       "    </tr>\n",
       "  </tbody>\n",
       "</table>\n",
       "</div>"
      ],
      "text/plain": [
       "            speed       power\n",
       "count  451.000000  451.000000\n",
       "mean    13.004302   53.231246\n",
       "std      6.835979   40.522055\n",
       "min      0.325000    0.067000\n",
       "25%      7.344500    8.543500\n",
       "50%     13.038000   58.168000\n",
       "75%     18.781500   94.725500\n",
       "max     24.399000  113.556000"
      ]
     },
     "execution_count": 95,
     "metadata": {},
     "output_type": "execute_result"
    }
   ],
   "source": [
    "# Gathering info for the new dataset to confirm the previous call worked\n",
    "# Currently have a dataset with 451 values as expected now that the 49 outliers are removed.\n",
    "data.describe()"
   ]
  },
  {
   "cell_type": "code",
   "execution_count": 97,
   "metadata": {},
   "outputs": [
    {
     "data": {
      "text/plain": [
       "<matplotlib.axes._subplots.AxesSubplot at 0x289c32c4430>"
      ]
     },
     "execution_count": 97,
     "metadata": {},
     "output_type": "execute_result"
    },
    {
     "data": {
      "image/png": "[encoded data removed]",
      "text/plain": [
       "<Figure size 432x288 with 1 Axes>"
      ]
     },
     "metadata": {},
     "output_type": "display_data"
    }
   ],
   "source": [
    "sns.scatterplot(x='speed',y='power',data = data)"
   ]
  },
  {
   "cell_type": "code",
   "execution_count": 100,
   "metadata": {},
   "outputs": [],
   "source": [
    "# Roughwork for next workings on the notebook \n",
    "\n",
    "# linear regression\n",
    "# polynominal regression\n",
    "# cost\n",
    "# train the dataset\n",
    "\n",
    "# https://machinelearningmastery.com/train-to-the-test-set-in-machine-learning/\n",
    "# https://towardsdatascience.com/simple-and-multiple-linear-regression-in-python-c928425168f9\n",
    "# https://www.geeksforgeeks.org/learning-model-building-scikit-learn-python-machine-learning-library/\n",
    "# https://data-flair.training/blogs/train-test-set-in-python-ml/\n",
    "# https://machinelearningmastery.com/how-to-use-statistics-to-identify-outliers-in-data/\n",
    "# https://scikit-learn.org/stable/model_selection.html#model-selection\n",
    "# \n"
   ]
  },
  {
   "cell_type": "markdown",
   "metadata": {},
   "source": [
    "#### Train / Test the dataset\n",
    "\n",
    "![Train_Test](traintest.png)"
   ]
  },
  {
   "cell_type": "code",
   "execution_count": 1,
   "metadata": {},
   "outputs": [],
   "source": [
    "# Train / Test model\n",
    "# https://www.w3schools.com/python/python_ml_train_test.asp\n",
    "# https://data-flair.training/blogs/train-test-set-in-python-ml/\n",
    "\n",
    "\n"
   ]
  },
  {
   "cell_type": "markdown",
   "metadata": {},
   "source": [
    "#### How do you train a dataset?\n",
    "\n",
    "<i>\"The training dataset is used to prepare a model, to train it. We pretend the test dataset is new data where the output values are withheld from the algorithm. We gather predictions from the trained model on the inputs from the test dataset and compare them to the withheld output values of the test set.\"</i> https://machinelearningmastery.com/train-final-machine-learning-model/"
   ]
  },
  {
   "cell_type": "markdown",
   "metadata": {},
   "source": [
    "-----------\n",
    "-----------\n",
    "\n",
    "\n",
    "### Findings\n",
    "\n",
    "Having removed the outliers with no power generation, we are able to get a better visualisation of the useable data. <br>\n",
    "Also having a cleaner data set allows for a more accurate and reliable output when it comes to training and testing the dataset. <br>\n",
    "\n",
    "\n",
    "\n"
   ]
  },
  {
   "cell_type": "markdown",
   "metadata": {},
   "source": [
    "\n",
    "-----------\n",
    "-----------\n",
    "\n",
    "\n",
    "### Conclusion\n",
    "\n",
    "In my research, I have lerned"
   ]
  },
  {
   "cell_type": "markdown",
   "metadata": {},
   "source": [
    "***\n",
    "-----------\n",
    "\n",
    "---------\n",
    "\n",
    "\n",
    "### References\n",
    "* https://www.sas.com/en_in/insights/analytics/machine-learning.html\n",
    "* https://www.researchgate.net/post/What-is-the-optimum-wind-speed-to-generate-electricity-by-a-wind-turbine\n",
    "* https://www.explainthatstuff.com/windturbines.html\n",
    "* https://www.energy.gov/maps/how-does-wind-turbine-work\n",
    "* https://en.wikipedia.org/wiki/Scikit-learn\n",
    "* https://scikit-learn.org/\n",
    "* https://www.geeksforgeeks.org/learning-model-building-scikit-learn-python-machine-learning-library/\n",
    "* https://medium.com/python-pandemonium/data-visualization-in-python-scatter-plots-in-matplotlib-da90ac4c99f9\n",
    "* https://www.w3schools.com/python/python_ml_train_test.asp\n",
    "* https://data-flair.training/blogs/train-test-set-in-python-ml/\n",
    "* https://machinelearningmastery.com/train-final-machine-learning-model/\n",
    "* Calculating energy production from weather forecast in Python - https://medium.com/planet-os/calculating-energy-production-from-weather-forecast-in-python-3c990047daa\n",
    "* Example Wind Resource Assessment Using Python - https://www.kaggle.com/coryjog/example-wind-analysis-in-python\n",
    "* An introduction to the Flask Python web app framework - https://opensource.com/article/18/4/flask\n",
    "* \n",
    "* "
   ]
  },
  {
   "cell_type": "markdown",
   "metadata": {},
   "source": [
    "### END"
   ]
  }
 ],
 "metadata": {
  "kernelspec": {
   "display_name": "Python 3",
   "language": "python",
   "name": "python3"
  },
  "language_info": {
   "codemirror_mode": {
    "name": "ipython",
    "version": 3
   },
   "file_extension": ".py",
   "mimetype": "text/x-python",
   "name": "python",
   "nbconvert_exporter": "python",
   "pygments_lexer": "ipython3",
   "version": "3.8.3"
  }
 },
 "nbformat": 4,
 "nbformat_minor": 4
}
