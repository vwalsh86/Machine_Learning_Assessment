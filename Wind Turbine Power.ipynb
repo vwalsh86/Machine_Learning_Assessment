{
 "cells": [
  {
   "cell_type": "markdown",
   "metadata": {},
   "source": [
    "\n",
    "## 2020 Project: Wind Turbine Power\n",
    "\n",
    "![Python](python.png)\n",
    "\n",
    "-----------\n",
    "\n",
    "\n",
    "-----------\n",
    "\n",
    "### Submitted by: Valerie Walsh G00364748\n",
    "### Submission Date: 8th Jan 2021\n",
    "-----------\n",
    "\n",
    "### Module: Machine Learning & Statistics\n",
    "### Course: H.Dip in Computer Science (Data Analytics)\n",
    "### Institute: Galway-Mayo I.T.\n",
    "### Lecturer: Ian McLoughlin\n",
    "\n",
    "\n",
    "-----------\n",
    "-----------\n",
    "\n",
    "\n",
    "\n",
    "\n",
    "## Table of Contents\n",
    "### Introduction\n",
    "### Statement of Work\n",
    "### Technology Used\n",
    "### Background\n",
    "### Research\n",
    "### Findings\n",
    "### References\n",
    "\n",
    "*****\n",
    "\n",
    "--------------\n",
    "\n",
    "\n",
    "### Introduction\n",
    "\n",
    "It is my intention, to use this repository to demonstrate my knowledge with relation to Machine Learning. <br>\n",
    "\n",
    "The project requires me to <i>\"create a web service that uses machine learning to make predictions based on the data set powerproduction\"</i>  <br>\n",
    "\n",
    "The data set has already been supplied by the lecturer and I have added it to this repository as a csv file. I have also added the assessment file to the repository for clarity of the requirements of this assessment. <br>\n",
    "\n",
    "<i>\"The goal is to produce a model that accurately predicts wind turbine power output from wind speed values, as in the data set. <br>\n",
    "You must then develop a web service that will respond with predicted power values based on speed values sent as HTTP requests.\"</i>\n",
    "\n",
    "-----------\n",
    "\n",
    "### Statement of Work\n",
    "\n",
    "This is a statement to confirm that the work submitted within this repository is my own work.\n",
    "Any information obtained via 3rd party as apart of my research has been referenced appropriately.\n",
    "I can therefore confirm that my submitted work is in line with the Quality Assurance Framework of GMIT.\n",
    "\n",
    "-----------\n",
    "\n",
    "### Technology Used\n",
    "\n",
    "* Jupyter Notebook\n",
    "* Visual Studio Code\n",
    "* Anaconda Software package\n",
    "* Python Programming Language\n",
    "* Flask (A Python framework)\n",
    "* Github.com\n",
    "* Command line interpreteter (Command Prompt)\n",
    "* LearnOnline / Moodle (*GMIT learning platform)\n",
    "\n",
    "Note: I have included a more detailed explaination within my README file of how I used the above technology for this project. \n",
    "\n",
    "-----------\n",
    "\n",
    "### Background\n",
    "\n",
    "- <b> Why this project? </b>\n",
    "\n",
    "The project is based upon the provided dataset which contains figures relating to the speed and power output of power production. <br>\n",
    "The aim of the project is for the student to develop a web service that can make predictions on power production i.e. electricity based on this data set. <br>\n",
    "This project must all be done using Machine Learning involing HTTP requests which should provide responses with predicted power / output values. \n",
    "\n",
    "\n",
    "#### So, what is Machine Learning?\n",
    "\n",
    "<i>\"Machine learning is a method of data analysis that automates analytical model building. It is a branch of artificial intelligence based on the idea that systems can learn from data, identify patterns and make decisions with minimal human intervention.\"</i> https://www.sas.com/en_in/insights/analytics/machine-learning.html\n",
    "\n",
    "Machine Learning is something which is now being used globally by various industries for the sole purpose of improvement. Its outputs and results allows for businesses to improve on their efficiencies which could relate to production, delivery or logistics. <br>\n",
    "\n",
    "In this example however, the results are intended to be used to aid calculations of costings for energy production and selling this energy for use on the power grid. As a business, obviously the main intention is to sell the energy with the best possible profit margins and also avoiding incurring any losses due to miscalculations. <br> \n",
    "\n",
    "During my research for this project, I have found numerous examples of blog and websites where this same task has been investigated by other individuals using various programming languages. It appears to be a vast area that allows for generating methods to make predictions for wind analysis and renewable energy production. <br>\n",
    "\n",
    "The overall intention of machine learning is for the programme to develop using data and learning and improving based on the data it receives from consistent analysis. \n",
    "\n",
    "##### Flask\n",
    "\n",
    "Flask is a Python framework that allows you to develop and deploy a web application."
   ]
  },
  {
   "cell_type": "markdown",
   "metadata": {},
   "source": [
    "![Graph](powervspeed.png)\n",
    "\n",
    "#### Wind power production\n",
    "\n",
    "In order for the output to produce, the wind speeds need to be acceptable or optimum levels for a wind turbine to successfully produce power estimates. This can rely on numerous variables including;\n",
    "\n",
    "* the geographical location of the intended turbines i.e. opened or sheltered areas\n",
    "* the number of turbines on the combined grid\n",
    "* weather conditions\n",
    "* wind turbine direction\n",
    "* the upkeep / maintenence of the turbines\n",
    "* the capacity or capabilities of the power generator \n",
    "* infrastructure i.e volume of turbines on the grid\n",
    "* quality of the transformer used to transfer energy from turbine to grid\n",
    "* the set speed of the turbine blades\n",
    "* the set level of output for the generator - so as to avoid flooding the grid or over production through the turbines. \n",
    "\n",
    "https://www.researchgate.net/post/What-is-the-optimum-wind-speed-to-generate-electricity-by-a-wind-turbine\n",
    "\n",
    "Based on the research carried out by \"Oxford University's Environmental Change Institute\", there is little chance of wind speeds being too low to produce energy: <br>\n",
    "<i>\"low wind speeds affect more than half the country for only 10 percent of the time; for 60 percent of the time, only 20 percent of the UK suffers from low wind speeds; and only for one hour per year is 90 percent of the UK suffering low speeds.\"</i>\n",
    "https://www.explainthatstuff.com/windturbines.html\n",
    "<br>\n",
    "\n",
    "The controller of the wind-turbine determines when the machine starts up. It is reported that in general the turbine will kick-in between 8-16 mph wind speeds and will shut off at a max wind speed of 55mph. Operating at wind speeds higher than this can potentially cause damage to the wind turbines. https://www.energy.gov/maps/how-does-wind-turbine-work <br>\n",
    "This may be a good explaination fpr if we see high winds speeds in the data set with a zero power production. This may potentially skew the data and results so we may need to eliminate these certain pieces of data when we investigate the set. <br>\n",
    "\n",
    "\n",
    "### Research\n",
    "\n",
    "In order to investigate and analyse the data accurately, I will be using the machine-learning library, Scikit-learn to classify, predict and model the dataset. <br>\n",
    "Scikit-learn is an open-source library for Python programming language that <i>\"features various classification, regression and clustering algorithms including support vector machines, random forests, gradient boosting, k-means and DBSCAN, and is designed to interoperate with the Python numerical and scientific libraries NumPy and SciPy.\"</i> https://en.wikipedia.org/wiki/Scikit-learn <br>\n",
    "\n",
    "Further information relating to this library can be found here: https://scikit-learn.org/\n",
    "<br>\n",
    "\n",
    "To get started I am going to choosec"
   ]
  },
  {
   "cell_type": "code",
   "execution_count": null,
   "metadata": {},
   "outputs": [],
   "source": [
    "from sklearn.linear_model import LinearRegression\n",
    "from sklearn.preprocessing import PolynomialFeatures\n",
    "from sklearn.metrics import mean_squared_error, r2_score\n",
    "\n",
    "import numpy as np\n",
    "import pandas as pd\n",
    "\n",
    "import matplotlib.pyplot as plt\n",
    "import seaborn as sns"
   ]
  },
  {
   "cell_type": "code",
   "execution_count": 26,
   "metadata": {},
   "outputs": [
    {
     "name": "stdout",
     "output_type": "stream",
     "text": [
      "      speed  power\n",
      "0     0.000    0.0\n",
      "1     0.125    0.0\n",
      "2     0.150    0.0\n",
      "3     0.225    0.0\n",
      "4     0.275    0.0\n",
      "..      ...    ...\n",
      "495  24.775    0.0\n",
      "496  24.850    0.0\n",
      "497  24.875    0.0\n",
      "498  24.950    0.0\n",
      "499  25.000    0.0\n",
      "\n",
      "[500 rows x 2 columns]\n"
     ]
    }
   ],
   "source": [
    "# Read in the dataset from CSV file\n",
    "power_data = pd.read_csv(\"powerproduction.csv\")\n",
    "print(power_data)"
   ]
  },
  {
   "cell_type": "code",
   "execution_count": 3,
   "metadata": {},
   "outputs": [
    {
     "data": {
      "text/html": [
       "<div>\n",
       "<style scoped>\n",
       "    .dataframe tbody tr th:only-of-type {\n",
       "        vertical-align: middle;\n",
       "    }\n",
       "\n",
       "    .dataframe tbody tr th {\n",
       "        vertical-align: top;\n",
       "    }\n",
       "\n",
       "    .dataframe thead th {\n",
       "        text-align: right;\n",
       "    }\n",
       "</style>\n",
       "<table border=\"1\" class=\"dataframe\">\n",
       "  <thead>\n",
       "    <tr style=\"text-align: right;\">\n",
       "      <th></th>\n",
       "      <th>speed</th>\n",
       "      <th>power</th>\n",
       "    </tr>\n",
       "  </thead>\n",
       "  <tbody>\n",
       "    <tr>\n",
       "      <th>count</th>\n",
       "      <td>500.000000</td>\n",
       "      <td>500.000000</td>\n",
       "    </tr>\n",
       "    <tr>\n",
       "      <th>mean</th>\n",
       "      <td>12.590398</td>\n",
       "      <td>48.014584</td>\n",
       "    </tr>\n",
       "    <tr>\n",
       "      <th>std</th>\n",
       "      <td>7.224991</td>\n",
       "      <td>41.614572</td>\n",
       "    </tr>\n",
       "    <tr>\n",
       "      <th>min</th>\n",
       "      <td>0.000000</td>\n",
       "      <td>0.000000</td>\n",
       "    </tr>\n",
       "    <tr>\n",
       "      <th>25%</th>\n",
       "      <td>6.324750</td>\n",
       "      <td>5.288000</td>\n",
       "    </tr>\n",
       "    <tr>\n",
       "      <th>50%</th>\n",
       "      <td>12.550500</td>\n",
       "      <td>41.645500</td>\n",
       "    </tr>\n",
       "    <tr>\n",
       "      <th>75%</th>\n",
       "      <td>18.775250</td>\n",
       "      <td>93.537000</td>\n",
       "    </tr>\n",
       "    <tr>\n",
       "      <th>max</th>\n",
       "      <td>25.000000</td>\n",
       "      <td>113.556000</td>\n",
       "    </tr>\n",
       "  </tbody>\n",
       "</table>\n",
       "</div>"
      ],
      "text/plain": [
       "            speed       power\n",
       "count  500.000000  500.000000\n",
       "mean    12.590398   48.014584\n",
       "std      7.224991   41.614572\n",
       "min      0.000000    0.000000\n",
       "25%      6.324750    5.288000\n",
       "50%     12.550500   41.645500\n",
       "75%     18.775250   93.537000\n",
       "max     25.000000  113.556000"
      ]
     },
     "execution_count": 3,
     "metadata": {},
     "output_type": "execute_result"
    }
   ],
   "source": [
    "power_data.describe()"
   ]
  },
  {
   "cell_type": "code",
   "execution_count": 25,
   "metadata": {},
   "outputs": [
    {
     "data": {
      "text/plain": [
       "<seaborn.axisgrid.FacetGrid at 0x1eb5fa816d0>"
      ]
     },
     "execution_count": 25,
     "metadata": {},
     "output_type": "execute_result"
    },
    {
     "data": {
      "image/png": "[encoded data removed]",
      "text/plain": [
       "<Figure size 360x360 with 1 Axes>"
      ]
     },
     "metadata": {
      "needs_background": "light"
     },
     "output_type": "display_data"
    }
   ],
   "source": [
    "sns.relplot(data=power_data, x = \"speed\", y = \"power\", s=15)\n",
    "            "
   ]
  },
  {
   "cell_type": "markdown",
   "metadata": {},
   "source": [
    "Based on the plotted information above, you can see alot of the points on the plot are showing alot of points are set to 0 in terms of power / watts produced so these could be deemed as outliers and points that may skew the output as false information. <br>\n",
    "It may be best to try disregard these points in the reviewing of the data so as to include those that are producing power when wind speeds are recorded. "
   ]
  },
  {
   "cell_type": "code",
   "execution_count": 2,
   "metadata": {},
   "outputs": [],
   "source": [
    "# flask for web app.\n",
    "import flask as fl\n",
    "# numpy for numerical work.\n",
    "import numpy as np\n",
    "\n",
    "# Create a new web app.\n",
    "app = fl.Flask(__name__)\n",
    "\n",
    "# Add root route.\n",
    "@app.route(\"/\")\n",
    "def home():\n",
    "  return app.send_static_file('index.html')\n",
    "\n",
    "# Add uniform route.\n",
    "@app.route('/api/uniform')\n",
    "def uniform():\n",
    "  return {\"value\": np.random.uniform()}\n",
    "\n",
    "# Add normal route.\n",
    "@app.route('/api/normal')\n",
    "def normal():\n",
    "  return {\"value\": np.random.normal()}"
   ]
  },
  {
   "cell_type": "code",
   "execution_count": null,
   "metadata": {},
   "outputs": [],
   "source": []
  },
  {
   "cell_type": "markdown",
   "metadata": {},
   "source": [
    "### Findings\n",
    "\n",
    "***\n",
    "\n",
    "### References\n",
    "* Calculating energy production from weather forecast in Python - https://medium.com/planet-os/calculating-energy-production-from-weather-forecast-in-python-3c990047daa\n",
    "* Example Wind Resource Assessment Using Python - https://www.kaggle.com/coryjog/example-wind-analysis-in-python\n",
    "* An introduction to the Flask Python web app framework - https://opensource.com/article/18/4/flask\n",
    "* \n",
    "* "
   ]
  },
  {
   "cell_type": "code",
   "execution_count": null,
   "metadata": {},
   "outputs": [],
   "source": []
  }
 ],
 "metadata": {
  "kernelspec": {
   "display_name": "Python 3",
   "language": "python",
   "name": "python3"
  },
  "language_info": {
   "codemirror_mode": {
    "name": "ipython",
    "version": 3
   },
   "file_extension": ".py",
   "mimetype": "text/x-python",
   "name": "python",
   "nbconvert_exporter": "python",
   "pygments_lexer": "ipython3",
   "version": "3.8.3"
  }
 },
 "nbformat": 4,
 "nbformat_minor": 4
}
